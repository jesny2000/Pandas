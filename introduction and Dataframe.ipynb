{
 "cells": [
  {
   "cell_type": "code",
   "execution_count": null,
   "id": "4dcae663-51d0-44f8-99b1-93d5df7a827e",
   "metadata": {},
   "outputs": [],
   "source": [
    "import pandas as pd"
   ]
  },
  {
   "cell_type": "code",
   "execution_count": 8,
   "id": "d4e06335-9e75-4b5c-9082-a72d1f942dca",
   "metadata": {},
   "outputs": [
    {
     "name": "stdout",
     "output_type": "stream",
     "text": [
      "Requirement already satisfied: pandas in c:\\users\\jesny\\appdata\\local\\programs\\python\\python313\\lib\\site-packages (2.3.2)\n",
      "Requirement already satisfied: numpy>=1.26.0 in c:\\users\\jesny\\appdata\\local\\programs\\python\\python313\\lib\\site-packages (from pandas) (2.3.3)\n",
      "Requirement already satisfied: python-dateutil>=2.8.2 in c:\\users\\jesny\\appdata\\local\\programs\\python\\python313\\lib\\site-packages (from pandas) (2.9.0.post0)\n",
      "Requirement already satisfied: pytz>=2020.1 in c:\\users\\jesny\\appdata\\local\\programs\\python\\python313\\lib\\site-packages (from pandas) (2025.2)\n",
      "Requirement already satisfied: tzdata>=2022.7 in c:\\users\\jesny\\appdata\\local\\programs\\python\\python313\\lib\\site-packages (from pandas) (2025.2)\n",
      "Requirement already satisfied: six>=1.5 in c:\\users\\jesny\\appdata\\local\\programs\\python\\python313\\lib\\site-packages (from python-dateutil>=2.8.2->pandas) (1.17.0)\n",
      "Note: you may need to restart the kernel to use updated packages.\n"
     ]
    }
   ],
   "source": [
    "pip install pandas"
   ]
  },
  {
   "cell_type": "code",
   "execution_count": 10,
   "id": "ee46325c-80cb-4129-8c60-a00af9075ccd",
   "metadata": {},
   "outputs": [
    {
     "name": "stdout",
     "output_type": "stream",
     "text": [
      "Empty DataFrame\n",
      "Columns: []\n",
      "Index: []\n"
     ]
    }
   ],
   "source": [
    "import pandas as pd\n",
    "df = pd.DataFrame()\n",
    "print(df)"
   ]
  },
  {
   "cell_type": "code",
   "execution_count": 14,
   "id": "9fb9f393-eebe-4cb1-8c23-48229db76d0f",
   "metadata": {},
   "outputs": [
    {
     "name": "stdout",
     "output_type": "stream",
     "text": [
      "        0\n",
      "0      My\n",
      "1    Name\n",
      "2   Jesny\n",
      "3    Liza\n",
      "4  Jaison\n"
     ]
    }
   ],
   "source": [
    "import pandas as pd\n",
    "a= ['My', 'Name', 'Jesny', 'Liza', \n",
    "            'Jaison']\n",
    "df = pd.DataFrame(a)\n",
    "print(df)"
   ]
  },
  {
   "cell_type": "code",
   "execution_count": 16,
   "id": "79462b9d-f256-4e52-8dac-6fbffec5bbd0",
   "metadata": {},
   "outputs": [
    {
     "name": "stdout",
     "output_type": "stream",
     "text": [
      "     Name Qualification  CGPA\n",
      "0   Jesny        B.TECH   7.2\n",
      "1  Nikhil           MBA   7.4\n",
      "2   Rehna           BCA   8.0\n",
      "3     Anu       Diploma   7.2\n"
     ]
    }
   ],
   "source": [
    "lst={'Name':[\"Jesny\",\"Nikhil\",\"Rehna\",\"Anu\"],\n",
    "     'Qualification':[\"B.TECH\",\"MBA\",\"BCA\",\"Diploma\"],\n",
    "'CGPA':[7.2,7.4,8.0,7.2]}\n",
    "df = pd.DataFrame(lst)\n",
    "print(df)\n",
    "     "
   ]
  },
  {
   "cell_type": "code",
   "execution_count": 17,
   "id": "5c4dd5ae-ff44-4dd7-bdee-2ef04b0c5f6f",
   "metadata": {},
   "outputs": [
    {
     "name": "stdout",
     "output_type": "stream",
     "text": [
      "RangeIndex(start=0, stop=4, step=1)\n"
     ]
    }
   ],
   "source": [
    "print(df.index)"
   ]
  },
  {
   "cell_type": "code",
   "execution_count": 18,
   "id": "9155df19-8d17-4877-9c51-5c6194a1fe4e",
   "metadata": {},
   "outputs": [
    {
     "data": {
      "text/html": [
       "<div>\n",
       "<style scoped>\n",
       "    .dataframe tbody tr th:only-of-type {\n",
       "        vertical-align: middle;\n",
       "    }\n",
       "\n",
       "    .dataframe tbody tr th {\n",
       "        vertical-align: top;\n",
       "    }\n",
       "\n",
       "    .dataframe thead th {\n",
       "        text-align: right;\n",
       "    }\n",
       "</style>\n",
       "<table border=\"1\" class=\"dataframe\">\n",
       "  <thead>\n",
       "    <tr style=\"text-align: right;\">\n",
       "      <th></th>\n",
       "      <th>Qualification</th>\n",
       "      <th>CGPA</th>\n",
       "    </tr>\n",
       "    <tr>\n",
       "      <th>Name</th>\n",
       "      <th></th>\n",
       "      <th></th>\n",
       "    </tr>\n",
       "  </thead>\n",
       "  <tbody>\n",
       "    <tr>\n",
       "      <th>Jesny</th>\n",
       "      <td>B.TECH</td>\n",
       "      <td>7.2</td>\n",
       "    </tr>\n",
       "    <tr>\n",
       "      <th>Nikhil</th>\n",
       "      <td>MBA</td>\n",
       "      <td>7.4</td>\n",
       "    </tr>\n",
       "    <tr>\n",
       "      <th>Rehna</th>\n",
       "      <td>BCA</td>\n",
       "      <td>8.0</td>\n",
       "    </tr>\n",
       "    <tr>\n",
       "      <th>Anu</th>\n",
       "      <td>Diploma</td>\n",
       "      <td>7.2</td>\n",
       "    </tr>\n",
       "  </tbody>\n",
       "</table>\n",
       "</div>"
      ],
      "text/plain": [
       "       Qualification  CGPA\n",
       "Name                      \n",
       "Jesny         B.TECH   7.2\n",
       "Nikhil           MBA   7.4\n",
       "Rehna            BCA   8.0\n",
       "Anu          Diploma   7.2"
      ]
     },
     "execution_count": 18,
     "metadata": {},
     "output_type": "execute_result"
    }
   ],
   "source": [
    "lst={'Name':[\"Jesny\",\"Nikhil\",\"Rehna\",\"Anu\"],\n",
    "'Qualification':[\"B.TECH\",\"MBA\",\"BCA\",\"Diploma\"],\n",
    "'CGPA':[7.2,7.4,8.0,7.2]}\n",
    "df = pd.DataFrame(lst)\n",
    "df_name=df.set_index('Name')\n",
    "df_name"
   ]
  },
  {
   "cell_type": "code",
   "execution_count": 19,
   "id": "6f88117b-35a1-4128-afc9-4db20c7c63f4",
   "metadata": {},
   "outputs": [
    {
     "name": "stdout",
     "output_type": "stream",
     "text": [
      "Qualification    MBA\n",
      "CGPA             7.4\n",
      "Name: Nikhil, dtype: object\n"
     ]
    }
   ],
   "source": [
    "df_with_index = df.set_index('Name')\n",
    "\n",
    "row = df_with_index.loc['Nikhil']\n",
    "print(row)"
   ]
  },
  {
   "cell_type": "code",
   "execution_count": 21,
   "id": "3e4101e8-6376-49c3-ac07-e404aad7a89f",
   "metadata": {},
   "outputs": [
    {
     "name": "stdout",
     "output_type": "stream",
     "text": [
      "       Qualification  CGPA\n",
      "Name                      \n",
      "Jesny         B.TECH   7.2\n",
      "Nikhil           MBA   7.4\n",
      "Rehna            BCA   8.0\n",
      "Anu          Diploma   7.2\n",
      "     Name Qualification  CGPA\n",
      "0   Jesny        B.TECH   7.2\n",
      "1  Nikhil           MBA   7.4\n",
      "2   Rehna           BCA   8.0\n",
      "3     Anu       Diploma   7.2\n"
     ]
    }
   ],
   "source": [
    "df_with_index = df.set_index('Name')\n",
    "print(df_with_index)\n",
    "df_reset = df_with_index.reset_index()\n",
    "print(df_reset)"
   ]
  },
  {
   "cell_type": "code",
   "execution_count": 27,
   "id": "39d2a35b-85b9-4f24-849d-8c28b4c3a6c4",
   "metadata": {},
   "outputs": [
    {
     "name": "stdout",
     "output_type": "stream",
     "text": [
      "     Name Qualification  CGPA\n",
      "0   Jesny        B.TECH   7.2\n",
      "1  Nikhil           MBA   7.4\n",
      "2   Rehna           BCA   8.0\n",
      "3     Anu       Diploma   7.2\n"
     ]
    },
    {
     "data": {
      "text/plain": [
       "0    7.2\n",
       "1    7.4\n",
       "2    8.0\n",
       "3    7.2\n",
       "Name: CGPA, dtype: float64"
      ]
     },
     "execution_count": 27,
     "metadata": {},
     "output_type": "execute_result"
    }
   ],
   "source": [
    "lst={'Name':[\"Jesny\",\"Nikhil\",\"Rehna\",\"Anu\"],\n",
    "     'Qualification':[\"B.TECH\",\"MBA\",\"BCA\",\"Diploma\"],\n",
    "'CGPA':[7.2,7.4,8.0,7.2]}\n",
    "df = pd.DataFrame(lst)\n",
    "print(df)\n",
    "lst_CGPA=df['CGPA']\n",
    "lst_CGPA"
   ]
  },
  {
   "cell_type": "code",
   "execution_count": 29,
   "id": "4b9fbe60-3561-4196-b9c9-db9c3b315450",
   "metadata": {},
   "outputs": [
    {
     "name": "stdout",
     "output_type": "stream",
     "text": [
      "Name             Amal\n",
      "Qualification     BCA\n",
      "CGPA              8.0\n",
      "Name: 2, dtype: object\n"
     ]
    }
   ],
   "source": [
    "lst={'Name':[\"Jesny\",\"Nikhil\",\"Amal\",\"Anu\"],\n",
    "     'Qualification':[\"B.TECH\",\"MBA\",\"BCA\",\"Diploma\"],\n",
    "'CGPA':[7.2,7.4,8.0,7.2]}\n",
    "df = pd.DataFrame(lst)\n",
    "second_row=df.iloc[2]\n",
    "print(second_row)"
   ]
  },
  {
   "cell_type": "code",
   "execution_count": 31,
   "id": "b1ef13e0-cd3d-426d-bd79-0c390736fd95",
   "metadata": {},
   "outputs": [
    {
     "name": "stdout",
     "output_type": "stream",
     "text": [
      "     Name Qualification\n",
      "1  Nikhil           MBA\n",
      "2    Amal           BCA\n"
     ]
    }
   ],
   "source": [
    "# taking df as input\n",
    "subset = df.loc[1:2, ['Name', 'Qualification']]\n",
    "print(subset)"
   ]
  },
  {
   "cell_type": "code",
   "execution_count": 33,
   "id": "4b4bdd0a-a90f-467b-88ed-3e1eedc7cd17",
   "metadata": {},
   "outputs": [
    {
     "name": "stdout",
     "output_type": "stream",
     "text": [
      "     Name Qualification  CGPA\n",
      "0   Jesny        B.TECH   7.2\n",
      "1  Nikhil           MBA   7.4\n",
      "3     Anu       Diploma   7.2\n"
     ]
    }
   ],
   "source": [
    "lst={'Name':[\"Jesny\",\"Nikhil\",\"Rehna\",\"Anu\"],\n",
    "     'Qualification':[\"B.TECH\",\"MBA\",\"BCA\",\"Diploma\"],\n",
    "'CGPA':[7.2,7.4,6.0,7.2]}\n",
    "df = pd.DataFrame(lst)\n",
    "filtered_data = df[df['CGPA'] > 7.0]\n",
    "print(filtered_data)"
   ]
  },
  {
   "cell_type": "code",
   "execution_count": 35,
   "id": "84c72567-7b3a-4ddf-b5b1-1e2d51ba42c3",
   "metadata": {},
   "outputs": [
    {
     "name": "stdout",
     "output_type": "stream",
     "text": [
      "BCA\n"
     ]
    }
   ],
   "source": [
    "salary_at_index_2 = df.at[2, 'Qualification']\n",
    "print(salary_at_index_2)"
   ]
  },
  {
   "cell_type": "code",
   "execution_count": 42,
   "id": "646a4b7b-66b0-4a1d-a199-afb91a2cadb1",
   "metadata": {},
   "outputs": [
    {
     "name": "stdout",
     "output_type": "stream",
     "text": [
      "BCA\n"
     ]
    }
   ],
   "source": [
    "# print the chosen variable the table 2 represent the row and 1 represent the coloumn\n",
    "slic=df.iat[2,1]\n",
    "print(slic)"
   ]
  },
  {
   "cell_type": "code",
   "execution_count": 46,
   "id": "e8261754-156b-4e37-b975-1acd57acda69",
   "metadata": {},
   "outputs": [
    {
     "name": "stdout",
     "output_type": "stream",
     "text": [
      "      Name  Age  Salary EmployeeID\n",
      "0    Jesny   25   25000       SS03\n",
      "1   Sariga   25   27000       SS01\n",
      "2    Akhil   29   32000       SS05\n",
      "3   Arathy   30   19500       SS01\n",
      "4   Bijith   32   45000       SS09\n",
      "5   Alfred   28   35000       SS02\n",
      "6  Anupama   25   19500       SS04\n"
     ]
    }
   ],
   "source": [
    "emp_list=[[\"Jesny\",25,25000,\"SS03\"],\n",
    "          [\"Sariga\",25,27000,\"SS01\"],\n",
    "          [\"Akhil\",29,32000,\"SS05\"],\n",
    "          [\"Arathy\",30,19500,\"SS01\"],\n",
    "          [\"Bijith\",32,45000,\"SS09\"],\n",
    "          [\"Alfred\",28,35000,\"SS02\"],\n",
    "          [\"Anupama\",25,19500,\"SS04\"]]\n",
    "df = pd.DataFrame(emp_list, columns=['Name', 'Age', 'Salary','EmployeeID'])\n",
    "print(df)"
   ]
  },
  {
   "cell_type": "code",
   "execution_count": null,
   "id": "032fbbca-7d0e-4be6-8888-b31cad2c5675",
   "metadata": {},
   "outputs": [],
   "source": []
  }
 ],
 "metadata": {
  "kernelspec": {
   "display_name": "Python 3 (ipykernel)",
   "language": "python",
   "name": "python3"
  },
  "language_info": {
   "codemirror_mode": {
    "name": "ipython",
    "version": 3
   },
   "file_extension": ".py",
   "mimetype": "text/x-python",
   "name": "python",
   "nbconvert_exporter": "python",
   "pygments_lexer": "ipython3",
   "version": "3.13.6"
  }
 },
 "nbformat": 4,
 "nbformat_minor": 5
}
