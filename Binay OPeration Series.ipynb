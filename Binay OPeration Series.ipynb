{
 "cells": [
  {
   "cell_type": "code",
   "execution_count": 3,
   "id": "cbc59255-fc10-4d18-bbc2-d8798a05a21f",
   "metadata": {},
   "outputs": [
    {
     "name": "stdout",
     "output_type": "stream",
     "text": [
      "a    11\n",
      "b    22\n",
      "c    33\n",
      "dtype: int64\n"
     ]
    }
   ],
   "source": [
    "#Binary operations on pandas\n",
    "#1. Arithmetic Operations on Series\n",
    "\n",
    "import pandas as pd\n",
    "s1 = pd.Series([10, 20, 30], index=['a', 'b', 'c'])\n",
    "s2 = pd.Series([1, 2, 3], index=['a', 'b', 'c'])\n",
    "\n",
    "# Adding the two Series\n",
    "result = s1 + s2\n",
    "print(result)"
   ]
  },
  {
   "cell_type": "code",
   "execution_count": 4,
   "id": "5700491d-1fe3-48fc-a38a-b62f84734ed5",
   "metadata": {},
   "outputs": [
    {
     "name": "stdout",
     "output_type": "stream",
     "text": [
      "0     True\n",
      "1    False\n",
      "2     True\n",
      "dtype: bool\n"
     ]
    }
   ],
   "source": [
    "#2. Comparison Operations on Series\n",
    "import pandas as pd\n",
    "s1 = pd.Series([10, 20, 30])\n",
    "s2 = pd.Series([10, 25, 30])\n",
    "\n",
    "# Comparing the two Series\n",
    "result = s1 == s2\n",
    "print(result)"
   ]
  },
  {
   "cell_type": "code",
   "execution_count": 5,
   "id": "b299c1c7-bed9-48da-b6f6-97199b6e76e4",
   "metadata": {},
   "outputs": [
    {
     "name": "stdout",
     "output_type": "stream",
     "text": [
      "       A      B\n",
      "0   True   True\n",
      "1   True  False\n",
      "2  False   True\n"
     ]
    }
   ],
   "source": [
    "#2.Comparison operations in pandas dataframe\n",
    "\n",
    "import pandas as pd\n",
    "df1 = pd.DataFrame({'A': [10, 20, 30], 'B': [40, 50, 60]})\n",
    "df2 = pd.DataFrame({'A': [5, 15, 35], 'B': [30, 60, 55]})\n",
    "\n",
    "# Checking if elements of df1 are greater than df2\n",
    "result = df1 > df2\n",
    "print(result)"
   ]
  },
  {
   "cell_type": "code",
   "execution_count": 6,
   "id": "a77be8fc-c418-4f0f-bac2-856d735a643c",
   "metadata": {},
   "outputs": [
    {
     "data": {
      "text/html": [
       "<div>\n",
       "<style scoped>\n",
       "    .dataframe tbody tr th:only-of-type {\n",
       "        vertical-align: middle;\n",
       "    }\n",
       "\n",
       "    .dataframe tbody tr th {\n",
       "        vertical-align: top;\n",
       "    }\n",
       "\n",
       "    .dataframe thead th {\n",
       "        text-align: right;\n",
       "    }\n",
       "</style>\n",
       "<table border=\"1\" class=\"dataframe\">\n",
       "  <thead>\n",
       "    <tr style=\"text-align: right;\">\n",
       "      <th></th>\n",
       "      <th>A</th>\n",
       "      <th>B</th>\n",
       "    </tr>\n",
       "  </thead>\n",
       "  <tbody>\n",
       "    <tr>\n",
       "      <th>0</th>\n",
       "      <td>6.0</td>\n",
       "      <td>6.0</td>\n",
       "    </tr>\n",
       "    <tr>\n",
       "      <th>1</th>\n",
       "      <td>NaN</td>\n",
       "      <td>NaN</td>\n",
       "    </tr>\n",
       "    <tr>\n",
       "      <th>2</th>\n",
       "      <td>NaN</td>\n",
       "      <td>12.0</td>\n",
       "    </tr>\n",
       "  </tbody>\n",
       "</table>\n",
       "</div>"
      ],
      "text/plain": [
       "     A     B\n",
       "0  6.0   6.0\n",
       "1  NaN   NaN\n",
       "2  NaN  12.0"
      ]
     },
     "execution_count": 6,
     "metadata": {},
     "output_type": "execute_result"
    }
   ],
   "source": [
    "#Handling Missing Data in Binary Operations\n",
    "df1=pd.DataFrame({\"A\":[1,2,None],\"B\":[3,None,6]})\n",
    "df2=pd.DataFrame({\"A\":[5,None,None],\"B\":[3,1,6]})\n",
    "result=df1+df2\n",
    "result"
   ]
  },
  {
   "cell_type": "code",
   "execution_count": 11,
   "id": "dd3c2337-41b3-41ed-8a45-818bb374277d",
   "metadata": {},
   "outputs": [
    {
     "name": "stdout",
     "output_type": "stream",
     "text": [
      "Original Index: Index(['a', 'b', 'c', 'd', 'e'], dtype='object')\n",
      "Modified Series:\n",
      " v    1\n",
      "w    2\n",
      "x    3\n",
      "y    5\n",
      "z    7\n",
      "dtype: int64\n"
     ]
    }
   ],
   "source": [
    "data=pd.Series([1,2,3,5,7],index=['a','b','c','d','e'])\n",
    "print(\"Original Index:\", data.index)\n",
    "data.index = ['v','w', 'x', 'y', 'z']\n",
    "print(\"Modified Series:\\n\", data)"
   ]
  },
  {
   "cell_type": "code",
   "execution_count": 12,
   "id": "b6923955-7232-4586-9245-f9e6d08f48d5",
   "metadata": {},
   "outputs": [
    {
     "name": "stdout",
     "output_type": "stream",
     "text": [
      "City 1    New York\n",
      "City 1     Chicago\n",
      "City 3     Toronto\n",
      "City 3      Lisbon\n",
      "dtype: object\n"
     ]
    }
   ],
   "source": [
    "# Assigning Duplicate Index Labels\n",
    "import pandas as pd\n",
    "series = pd.Series(['New York', 'Chicago', 'Toronto', 'Lisbon'])\n",
    "series.index = ['City 1', 'City 1', 'City 3', 'City 3'] \n",
    "print(series)"
   ]
  },
  {
   "cell_type": "code",
   "execution_count": 14,
   "id": "26cfb066-78d1-40b4-8f77-3e8472bbe5f2",
   "metadata": {},
   "outputs": [
    {
     "name": "stdout",
     "output_type": "stream",
     "text": [
      "0    1/1/2018\n",
      "1    2/1/2018\n",
      "2    3/1/2018\n",
      "3    4/1/2018\n",
      "dtype: object\n"
     ]
    }
   ],
   "source": [
    "Date = ['1/1/2018', '2/1/2018', '3/1/2018', '4/1/2018']\n",
    "idx_name = ['Day 1', 'Day 2', 'Day 3', 'Day 4']\n",
    "sr = pd.Series(data = Date,\n",
    "              index = idx_name\n",
    "              )\n",
    "sr.reset_index(drop=True, inplace=True)\n",
    "print(sr)"
   ]
  },
  {
   "cell_type": "code",
   "execution_count": 17,
   "id": "f59036fb-49c1-43ac-bb6b-cfbf4d1a0b21",
   "metadata": {},
   "outputs": [
    {
     "name": "stdout",
     "output_type": "stream",
     "text": [
      "100    a\n",
      "101    b\n",
      "102    c\n",
      "103    d\n",
      "104    e\n",
      "dtype: object\n"
     ]
    }
   ],
   "source": [
    "import numpy as np\n",
    "data = np.array(['a', 'b', 'c', 'd', 'e'])\n",
    "s = pd.Series(data, index=[100, 101, 102, 103, 104])\n",
    "print(s)"
   ]
  },
  {
   "cell_type": "code",
   "execution_count": null,
   "id": "0aa62237-6c69-48b6-965a-f044f9f384ac",
   "metadata": {},
   "outputs": [],
   "source": []
  }
 ],
 "metadata": {
  "kernelspec": {
   "display_name": "Python 3 (ipykernel)",
   "language": "python",
   "name": "python3"
  },
  "language_info": {
   "codemirror_mode": {
    "name": "ipython",
    "version": 3
   },
   "file_extension": ".py",
   "mimetype": "text/x-python",
   "name": "python",
   "nbconvert_exporter": "python",
   "pygments_lexer": "ipython3",
   "version": "3.13.6"
  }
 },
 "nbformat": 4,
 "nbformat_minor": 5
}
