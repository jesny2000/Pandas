{
 "cells": [
  {
   "cell_type": "code",
   "execution_count": 6,
   "id": "c2697261-4b56-4cbc-aa6b-724527a2b81f",
   "metadata": {},
   "outputs": [
    {
     "name": "stdout",
     "output_type": "stream",
     "text": [
      "Series([], dtype: object)\n"
     ]
    }
   ],
   "source": [
    "#creating series\n",
    "#1.creating empty series\n",
    "\n",
    "import pandas as pd\n",
    "\n",
    "sr = pd.Series()\n",
    "\n",
    "print(sr)"
   ]
  },
  {
   "cell_type": "code",
   "execution_count": 5,
   "id": "d7471227-c8f8-490a-8454-324308ad5fd2",
   "metadata": {},
   "outputs": [
    {
     "data": {
      "text/plain": [
       "0    a\n",
       "1    e\n",
       "2    i\n",
       "3    o\n",
       "4    u\n",
       "dtype: object"
      ]
     },
     "execution_count": 5,
     "metadata": {},
     "output_type": "execute_result"
    }
   ],
   "source": [
    "import pandas as pd\n",
    "import numpy as np\n",
    "data=np.array(['a','e','i','o','u'])\n",
    "sr=pd.Series(data)\n",
    "sr"
   ]
  },
  {
   "cell_type": "code",
   "execution_count": 7,
   "id": "2a8c4f97-a3d6-40e7-a43d-b7a607da0bad",
   "metadata": {},
   "outputs": [
    {
     "name": "stdout",
     "output_type": "stream",
     "text": [
      "Name      Jesny\n",
      "Age          25\n",
      "Course       AI\n",
      "dtype: object\n"
     ]
    }
   ],
   "source": [
    "#3.Creating a Series from a Dictionary\n",
    "dict={\"Name\":\"Jesny\",'Age':\"25\",'Course':\"AI\"}\n",
    "ser = pd.Series(dict)\n",
    "print(ser)"
   ]
  },
  {
   "cell_type": "code",
   "execution_count": 10,
   "id": "e9919f3c-3ea4-4611-b87a-3606efbaec73",
   "metadata": {},
   "outputs": [
    {
     "name": "stdout",
     "output_type": "stream",
     "text": [
      "0     1.00\n",
      "1     3.75\n",
      "2     6.50\n",
      "3     9.25\n",
      "4    12.00\n",
      "dtype: float64\n"
     ]
    }
   ],
   "source": [
    "ser = pd.Series(np.linspace(1, 12, 5))\n",
    "print(ser)"
   ]
  },
  {
   "cell_type": "code",
   "execution_count": 3,
   "id": "24bd0d68-5d6b-4595-95eb-01fe9a3326bd",
   "metadata": {},
   "outputs": [
    {
     "name": "stdout",
     "output_type": "stream",
     "text": [
      "0     5\n",
      "1     6\n",
      "2     7\n",
      "3     8\n",
      "4     9\n",
      "5    10\n",
      "6    11\n",
      "7    12\n",
      "8    13\n",
      "9    14\n",
      "dtype: int64\n"
     ]
    }
   ],
   "source": [
    "#5.Creating a Series Using range()\n",
    "ser = pd.Series(range(5, 15))\n",
    "print(ser)"
   ]
  },
  {
   "cell_type": "code",
   "execution_count": 7,
   "id": "40813c85-f107-415d-b986-36d34fb9ab6f",
   "metadata": {},
   "outputs": [
    {
     "name": "stdout",
     "output_type": "stream",
     "text": [
      "j\n",
      "i\n"
     ]
    }
   ],
   "source": [
    "data = np.array(['j', 'e', 's', 'n', 'y', 'l',\n",
    "                 'i', 'z', 'a', 'J', 'a', 'i', 's','o','n'])\n",
    "ser = pd.Series(data)\n",
    "# retrieve the first element\n",
    "print(ser[0])\n",
    "# retrieve the sixth element\n",
    "print(ser[6])"
   ]
  },
  {
   "cell_type": "code",
   "execution_count": 11,
   "id": "4f4c1912-257f-4631-87fa-77c540715a9f",
   "metadata": {},
   "outputs": [
    {
     "name": "stdout",
     "output_type": "stream",
     "text": [
      "0    j\n",
      "1    e\n",
      "2    s\n",
      "3    n\n",
      "4    y\n",
      "dtype: object\n",
      "2    s\n",
      "3    n\n",
      "4    y\n",
      "dtype: object\n",
      "6    i\n",
      "7    z\n",
      "8    a\n",
      "dtype: object\n",
      "6     i\n",
      "7     z\n",
      "8     a\n",
      "9     J\n",
      "10    a\n",
      "11    i\n",
      "12    s\n",
      "13    o\n",
      "14    n\n",
      "dtype: object\n"
     ]
    }
   ],
   "source": [
    "ser = pd.Series(data)\n",
    "# retrieve the first element\n",
    "print(ser[:5])\n",
    "print(ser[2:5])\n",
    "print(ser[6:9])\n",
    "print(ser[6:])"
   ]
  },
  {
   "cell_type": "code",
   "execution_count": 2,
   "id": "c7ff8b68-4887-47b2-a28a-9f3835047407",
   "metadata": {},
   "outputs": [
    {
     "name": "stdout",
     "output_type": "stream",
     "text": [
      "5     l\n",
      "6     i\n",
      "7     z\n",
      "8     a\n",
      "9     J\n",
      "10    a\n",
      "11    i\n",
      "12    s\n",
      "13    o\n",
      "14    n\n",
      "dtype: object\n"
     ]
    }
   ],
   "source": [
    "#3.Accessing Last 10 Elements of Series\n",
    "import pandas as pd\n",
    "import numpy as np\n",
    "\n",
    "# creating simple array\n",
    "data = np.array(['j', 'e', 's', 'n', 'y', 'l',\n",
    "                 'i', 'z', 'a', 'J', 'a', 'i', 's','o','n'])\n",
    "ser = pd.Series(data)\n",
    "\n",
    "# retrieve the first element\n",
    "print(ser[-10:])"
   ]
  },
  {
   "cell_type": "code",
   "execution_count": 1,
   "id": "f2ed1c8f-4e2e-41ff-a60e-3b2c122741df",
   "metadata": {},
   "outputs": [
    {
     "data": {
      "text/plain": [
       "0    25\n",
       "1    55\n",
       "2    26\n",
       "3    60\n",
       "4    29\n",
       "Name: Age, dtype: int64"
      ]
     },
     "execution_count": 1,
     "metadata": {},
     "output_type": "execute_result"
    }
   ],
   "source": [
    "#3.Accessing First 5 Elements of Series in .csv File\n",
    "import pandas as pd\n",
    "\n",
    "# making data frame\n",
    "df = pd.read_csv(\"test.csv\")\n",
    "\n",
    "ser = pd.Series(df['Age'])\n",
    "ser.head(5)"
   ]
  },
  {
   "cell_type": "code",
   "execution_count": 16,
   "id": "18ca107c-efa7-49e4-9496-a7ae17d0cc0b",
   "metadata": {},
   "outputs": [
    {
     "name": "stdout",
     "output_type": "stream",
     "text": [
      "10    g\n",
      "11    e\n",
      "12    e\n",
      "13    k\n",
      "14    s\n",
      "15    f\n",
      "16    o\n",
      "17    r\n",
      "18    g\n",
      "19    e\n",
      "20    e\n",
      "21    k\n",
      "22    s\n",
      "dtype: object\n",
      "o\n",
      "10    g\n",
      "11    e\n",
      "12    e\n",
      "13    k\n",
      "14    s\n",
      "dtype: object\n"
     ]
    }
   ],
   "source": [
    "#4.Accessing a Single Element Using index Label\n",
    "# creating simple array\n",
    "data = np.array(['g', 'e', 'e', 'k', 's', 'f',\n",
    "                 'o', 'r', 'g', 'e', 'e', 'k', 's'])\n",
    "ser = pd.Series(data, index=[10, 11, 12, 13, 14,\n",
    "                             15, 16, 17, 18, 19, 20, 21, 22])\n",
    "# accessing a element using index element\n",
    "print(ser)\n",
    "print(ser[16])\n",
    "print(ser[[10, 11, 12, 13, 14]])"
   ]
  },
  {
   "cell_type": "code",
   "execution_count": 20,
   "id": "36bd2d78-6c28-4738-8ad1-d95ad1ac97d2",
   "metadata": {},
   "outputs": [
    {
     "name": "stdout",
     "output_type": "stream",
     "text": [
      "a    3\n",
      "f    8\n",
      "dtype: int64\n"
     ]
    }
   ],
   "source": [
    "ser = pd.Series(np.arange(3, 9), index=['a', 'b', 'c', 'd', 'e', 'f'])\n",
    "print(ser[['a', 'f']])"
   ]
  },
  {
   "cell_type": "code",
   "execution_count": null,
   "id": "a977513b-1017-4a0d-9140-49ebdc99a44b",
   "metadata": {},
   "outputs": [],
   "source": []
  }
 ],
 "metadata": {
  "kernelspec": {
   "display_name": "Python 3 (ipykernel)",
   "language": "python",
   "name": "python3"
  },
  "language_info": {
   "codemirror_mode": {
    "name": "ipython",
    "version": 3
   },
   "file_extension": ".py",
   "mimetype": "text/x-python",
   "name": "python",
   "nbconvert_exporter": "python",
   "pygments_lexer": "ipython3",
   "version": "3.13.6"
  }
 },
 "nbformat": 4,
 "nbformat_minor": 5
}
