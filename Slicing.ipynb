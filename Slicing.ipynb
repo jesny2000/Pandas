{
 "cells": [
  {
   "cell_type": "code",
   "execution_count": 2,
   "id": "79009876-06c1-480d-b33a-05ff8dcf7f75",
   "metadata": {},
   "outputs": [
    {
     "name": "stdout",
     "output_type": "stream",
     "text": [
      "     Name  Age  Salary EmployeeID\n",
      "1  Sariga   25   27000       SS01\n",
      "2   Akhil   29   32000       SS05\n",
      "3  Arathy   30   19500       SS01\n",
      "4  Bijith   32   45000       SS09\n"
     ]
    }
   ],
   "source": [
    "import pandas as pd\n",
    "emp_list=[[\"Jesny\",25,25000,\"SS03\"],\n",
    "          [\"Sariga\",25,27000,\"SS01\"],\n",
    "          [\"Akhil\",29,32000,\"SS05\"],\n",
    "          [\"Arathy\",30,19500,\"SS01\"],\n",
    "          [\"Bijith\",32,45000,\"SS09\"],\n",
    "          [\"Alfred\",28,35000,\"SS02\"],\n",
    "          [\"Anupama\",25,19500,\"SS04\"]]\n",
    "df = pd.DataFrame(emp_list, columns=['Name', 'Age', 'Salary','EmployeeID'])\n",
    "df1 = df.iloc[1:5]\n",
    "# iloc is used to slice the index\n",
    "print(df1)"
   ]
  },
  {
   "cell_type": "code",
   "execution_count": 3,
   "id": "a7a516e4-9fe1-4d61-84cd-08dcb208e00f",
   "metadata": {},
   "outputs": [
    {
     "name": "stdout",
     "output_type": "stream",
     "text": [
      "      Name  Age\n",
      "0    Jesny   25\n",
      "1   Sariga   25\n",
      "2    Akhil   29\n",
      "3   Arathy   30\n",
      "4   Bijith   32\n",
      "5   Alfred   28\n",
      "6  Anupama   25\n"
     ]
    }
   ],
   "source": [
    "df1 = df.iloc[:, 0:2]\n",
    "# befor the comma ie, the first space is for rows and 0:2 represent the coloumn slicing\n",
    "print(df1)"
   ]
  },
  {
   "cell_type": "code",
   "execution_count": 5,
   "id": "9a2c8171-3aa9-4b05-af1e-ac99529cb623",
   "metadata": {},
   "outputs": [
    {
     "name": "stdout",
     "output_type": "stream",
     "text": [
      "Specific Cell Value: 45000\n"
     ]
    }
   ],
   "source": [
    "value = df.iloc[4, 2]  \n",
    "print(\"Specific Cell Value:\", value)\n",
    "# iat can also used to get specific value but .iat Only works for single elements.\n",
    "# df.iat[2:4, 1]    Not allowed\n",
    "# df.iloc[2:5, 1]   Returns a Series of ages from row 2 to 4                                                          "
   ]
  },
  {
   "cell_type": "code",
   "execution_count": 9,
   "id": "f036889a-bdb1-4e67-a62f-742737ffdfe0",
   "metadata": {},
   "outputs": [
    {
     "name": "stdout",
     "output_type": "stream",
     "text": [
      "\n",
      "Filtered Data based on Age > 35:\n",
      "         Age  Salary EmployeeID\n",
      "Name                          \n",
      "Akhil    29   32000       SS05\n",
      "Arathy   30   19500       SS01\n",
      "Bijith   32   45000       SS09\n",
      "Alfred   28   35000       SS02\n"
     ]
    }
   ],
   "source": [
    "data = df[df['Age'] > 25].iloc[:, :] \n",
    "print(\"\\nFiltered Data based on Age > 35:\\n\", data)"
   ]
  },
  {
   "cell_type": "code",
   "execution_count": 11,
   "id": "88326d6f-53be-4dca-948d-913fc7a229ce",
   "metadata": {},
   "outputs": [
    {
     "name": "stdout",
     "output_type": "stream",
     "text": [
      "        Age  Salary EmployeeID\n",
      "Name                          \n",
      "Akhil    29   32000       SS05\n",
      "Arathy   30   19500       SS01\n",
      "Bijith   32   45000       SS09\n",
      "Alfred   28   35000       SS02\n"
     ]
    }
   ],
   "source": [
    "emp_list=[[\"Jesny\",25,25000,\"SS03\"],\n",
    "          [\"Sariga\",25,27000,\"SS01\"],\n",
    "          [\"Akhil\",29,32000,\"SS05\"],\n",
    "          [\"Arathy\",30,19500,\"SS01\"],\n",
    "          [\"Bijith\",32,45000,\"SS09\"],\n",
    "          [\"Alfred\",28,35000,\"SS02\"],\n",
    "          [\"Anupama\",25,19500,\"SS04\"]]\n",
    "df = pd.DataFrame(emp_list, columns=['Name', 'Age', 'Salary','EmployeeID'])\n",
    "df.set_index('Name', inplace=True)\n",
    "# loc  cannot slice according to index it slices with the array elements\n",
    "custom = df.loc['Akhil':'Alfred']\n",
    "print(custom)"
   ]
  },
  {
   "cell_type": "code",
   "execution_count": 12,
   "id": "89ea23f5-3ff4-4a47-aeb2-66b9457afd10",
   "metadata": {},
   "outputs": [
    {
     "name": "stdout",
     "output_type": "stream",
     "text": [
      "\n",
      "Value of the Specific Cell (Bijith, Salary): 45000\n"
     ]
    }
   ],
   "source": [
    "result = df.loc['Bijith', 'Salary']\n",
    "print(\"\\nValue of the Specific Cell (Bijith, Salary):\", value)"
   ]
  },
  {
   "cell_type": "code",
   "execution_count": 13,
   "id": "38182248-51b4-4ebb-9230-f43f2d74f086",
   "metadata": {},
   "outputs": [
    {
     "data": {
      "text/html": [
       "<div>\n",
       "<style scoped>\n",
       "    .dataframe tbody tr th:only-of-type {\n",
       "        vertical-align: middle;\n",
       "    }\n",
       "\n",
       "    .dataframe tbody tr th {\n",
       "        vertical-align: top;\n",
       "    }\n",
       "\n",
       "    .dataframe thead th {\n",
       "        text-align: right;\n",
       "    }\n",
       "</style>\n",
       "<table border=\"1\" class=\"dataframe\">\n",
       "  <thead>\n",
       "    <tr style=\"text-align: right;\">\n",
       "      <th></th>\n",
       "      <th>Name</th>\n",
       "      <th>Age</th>\n",
       "      <th>Salary</th>\n",
       "      <th>JOB</th>\n",
       "    </tr>\n",
       "  </thead>\n",
       "  <tbody>\n",
       "    <tr>\n",
       "      <th>0</th>\n",
       "      <td>Jesny</td>\n",
       "      <td>25</td>\n",
       "      <td>250000</td>\n",
       "      <td>Analyst</td>\n",
       "    </tr>\n",
       "    <tr>\n",
       "      <th>1</th>\n",
       "      <td>Lisa</td>\n",
       "      <td>27</td>\n",
       "      <td>1000000</td>\n",
       "      <td>Dancer</td>\n",
       "    </tr>\n",
       "    <tr>\n",
       "      <th>2</th>\n",
       "      <td>Jennie</td>\n",
       "      <td>28</td>\n",
       "      <td>800000</td>\n",
       "      <td>Rapper</td>\n",
       "    </tr>\n",
       "    <tr>\n",
       "      <th>3</th>\n",
       "      <td>Rosie</td>\n",
       "      <td>28</td>\n",
       "      <td>900000</td>\n",
       "      <td>Singer</td>\n",
       "    </tr>\n",
       "    <tr>\n",
       "      <th>4</th>\n",
       "      <td>Jisoo</td>\n",
       "      <td>29</td>\n",
       "      <td>600000</td>\n",
       "      <td>Artist</td>\n",
       "    </tr>\n",
       "    <tr>\n",
       "      <th>5</th>\n",
       "      <td>Nikhil</td>\n",
       "      <td>26</td>\n",
       "      <td>1000000</td>\n",
       "      <td>Manager</td>\n",
       "    </tr>\n",
       "  </tbody>\n",
       "</table>\n",
       "</div>"
      ],
      "text/plain": [
       "     Name  Age   Salary      JOB\n",
       "0   Jesny   25   250000  Analyst\n",
       "1    Lisa   27  1000000   Dancer\n",
       "2  Jennie   28   800000   Rapper\n",
       "3   Rosie   28   900000   Singer\n",
       "4   Jisoo   29   600000   Artist\n",
       "5  Nikhil   26  1000000  Manager"
      ]
     },
     "metadata": {},
     "output_type": "display_data"
    }
   ],
   "source": [
    "dataFrame = pd.DataFrame({'Name': ['Jesny', 'Lisa', 'Jennie',\n",
    "                                   'Rosie', 'Jisoo', 'Nikhil'],\n",
    "                          \n",
    "                          'Age': [25,27,28,28,29,26],\n",
    "                          \n",
    "                          'Salary': [250000,1000000,800000,900000,600000,1000000],\n",
    "                          \n",
    "                          'JOB': ['Analyst', 'Dancer', 'Rapper', 'Singer',\n",
    "                                  'Artist', 'Manager']})\n",
    "display(dataFrame)"
   ]
  },
  {
   "cell_type": "code",
   "execution_count": 18,
   "id": "0546ae1e-9858-43ee-aa1e-1099af280839",
   "metadata": {},
   "outputs": [
    {
     "data": {
      "text/html": [
       "<div>\n",
       "<style scoped>\n",
       "    .dataframe tbody tr th:only-of-type {\n",
       "        vertical-align: middle;\n",
       "    }\n",
       "\n",
       "    .dataframe tbody tr th {\n",
       "        vertical-align: top;\n",
       "    }\n",
       "\n",
       "    .dataframe thead th {\n",
       "        text-align: right;\n",
       "    }\n",
       "</style>\n",
       "<table border=\"1\" class=\"dataframe\">\n",
       "  <thead>\n",
       "    <tr style=\"text-align: right;\">\n",
       "      <th></th>\n",
       "      <th>Name</th>\n",
       "      <th>JOB</th>\n",
       "    </tr>\n",
       "  </thead>\n",
       "  <tbody>\n",
       "    <tr>\n",
       "      <th>5</th>\n",
       "      <td>Nikhil</td>\n",
       "      <td>Manager</td>\n",
       "    </tr>\n",
       "  </tbody>\n",
       "</table>\n",
       "</div>"
      ],
      "text/plain": [
       "     Name      JOB\n",
       "5  Nikhil  Manager"
      ]
     },
     "metadata": {},
     "output_type": "display_data"
    }
   ],
   "source": [
    "# filter dataframe\n",
    "display(dataFrame.loc[(dataFrame['Salary']>=1000000) & (dataFrame['Age']< 29) & (dataFrame['JOB'].str.startswith('M')),\n",
    "                    ['Name','JOB']])"
   ]
  },
  {
   "cell_type": "code",
   "execution_count": null,
   "id": "4a25749b-780c-4c40-a480-ba888051f95e",
   "metadata": {},
   "outputs": [],
   "source": []
  }
 ],
 "metadata": {
  "kernelspec": {
   "display_name": "Python 3 (ipykernel)",
   "language": "python",
   "name": "python3"
  },
  "language_info": {
   "codemirror_mode": {
    "name": "ipython",
    "version": 3
   },
   "file_extension": ".py",
   "mimetype": "text/x-python",
   "name": "python",
   "nbconvert_exporter": "python",
   "pygments_lexer": "ipython3",
   "version": "3.13.6"
  }
 },
 "nbformat": 4,
 "nbformat_minor": 5
}
